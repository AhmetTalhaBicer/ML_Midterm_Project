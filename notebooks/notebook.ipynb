{
 "cells": [
  {
   "cell_type": "markdown",
   "id": "f518386d",
   "metadata": {},
   "source": [
    "# Cancer Classifaction"
   ]
  },
  {
   "cell_type": "code",
   "execution_count": 1,
   "id": "3faf2e9d",
   "metadata": {},
   "outputs": [],
   "source": [
    "import pandas as pd\n",
    "import numpy as np"
   ]
  },
  {
   "cell_type": "markdown",
   "id": "b79307da",
   "metadata": {},
   "source": [
    "### Data Loading and Preparation"
   ]
  },
  {
   "cell_type": "code",
   "execution_count": 2,
   "id": "7948ca5f",
   "metadata": {},
   "outputs": [],
   "source": [
    "# Load data\n",
    "data = pd.read_csv('../data/external/data.csv')"
   ]
  },
  {
   "cell_type": "markdown",
   "id": "e826b2c3",
   "metadata": {},
   "source": [
    "### Display Data"
   ]
  },
  {
   "cell_type": "code",
   "execution_count": null,
   "id": "f08eb16d",
   "metadata": {},
   "outputs": [],
   "source": [
    "# Display the first few rows of the data\n",
    "print(f\"Data shape: {data.shape}\")\n",
    "display(data.head())\n",
    "\n",
    "# Display basic information about the dataset\n",
    "print(\"\\nBasic information about the dataset:\")\n",
    "data.info()\n",
    "\n",
    "# Show statistical summary of the data\n",
    "print(\"\\nStatistical summary of numerical features:\")\n",
    "display(data.describe())\n",
    "\n",
    "# Check for missing values\n",
    "print(f\"\\nMissing values in each column:\\n{data.isnull().sum()}\")\n",
    "\n",
    "# Show the distribution of classes if this is a classification dataset\n",
    "if 'diagnosis' in data.columns:\n",
    "    print(f\"\\nClass distribution:\\n{data['diagnosis'].value_counts()}\")\n",
    "    print(f\"Class distribution (percentage):\\n{100 * data['diagnosis'].value_counts() / len(data):.2f}%\")"
   ]
  },
  {
   "cell_type": "code",
   "execution_count": null,
   "id": "762e3240",
   "metadata": {},
   "outputs": [],
   "source": [
    "print(\"\\nData types of each column:\")"
   ]
  }
 ],
 "metadata": {
  "kernelspec": {
   "display_name": ".venv",
   "language": "python",
   "name": "python3"
  },
  "language_info": {
   "codemirror_mode": {
    "name": "ipython",
    "version": 3
   },
   "file_extension": ".py",
   "mimetype": "text/x-python",
   "name": "python",
   "nbconvert_exporter": "python",
   "pygments_lexer": "ipython3",
   "version": "3.12.8"
  }
 },
 "nbformat": 4,
 "nbformat_minor": 5
}
